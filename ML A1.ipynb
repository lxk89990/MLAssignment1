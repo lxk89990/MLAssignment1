{
 "cells": [
  {
   "cell_type": "code",
   "execution_count": 308,
   "id": "7ff7564a",
   "metadata": {},
   "outputs": [
    {
     "name": "stdout",
     "output_type": "stream",
     "text": [
      "[19, 19, 20, 22, 24, 24, 24, 25, 25, 26]\n"
     ]
    },
    {
     "data": {
      "text/plain": [
       "26"
      ]
     },
     "execution_count": 308,
     "metadata": {},
     "output_type": "execute_result"
    }
   ],
   "source": [
    "#question:1\n",
    "\n",
    "#Sort the list and find the min and max age\n",
    "ages = [19, 22, 19, 24, 20, 25, 26, 24, 25, 24]\n",
    "print(sorted(ages))\n",
    "max(ages)"
   ]
  },
  {
   "cell_type": "code",
   "execution_count": 309,
   "id": "3cb21fae",
   "metadata": {},
   "outputs": [
    {
     "data": {
      "text/plain": [
       "19"
      ]
     },
     "execution_count": 309,
     "metadata": {},
     "output_type": "execute_result"
    }
   ],
   "source": [
    "min(ages)"
   ]
  },
  {
   "cell_type": "code",
   "execution_count": 310,
   "id": "24fd6859",
   "metadata": {},
   "outputs": [
    {
     "name": "stdout",
     "output_type": "stream",
     "text": [
      "[19, 22, 19, 24, 20, 25, 26, 24, 25, 24, 26, 19]\n"
     ]
    }
   ],
   "source": [
    "# Add the min age and the max age again to the list\n",
    "ages.extend([max(ages),min(ages)])\n",
    "print(ages)"
   ]
  },
  {
   "cell_type": "code",
   "execution_count": 311,
   "id": "f728c03b",
   "metadata": {},
   "outputs": [
    {
     "name": "stdout",
     "output_type": "stream",
     "text": [
      "24.0\n"
     ]
    }
   ],
   "source": [
    "# Find the median age (one middle item or two middle items divided by two)\n",
    "import statistics\n",
    "print(statistics.median(ages))"
   ]
  },
  {
   "cell_type": "code",
   "execution_count": 312,
   "id": "d436f061",
   "metadata": {},
   "outputs": [
    {
     "name": "stdout",
     "output_type": "stream",
     "text": [
      "22.75\n"
     ]
    }
   ],
   "source": [
    "#Find the average age (sum of all items divided by their number)\n",
    "sum=0\n",
    "for i in ages:\n",
    "    sum +=i\n",
    "print(sum/len(ages))"
   ]
  },
  {
   "cell_type": "code",
   "execution_count": 303,
   "id": "c0fe2169",
   "metadata": {},
   "outputs": [
    {
     "name": "stdout",
     "output_type": "stream",
     "text": [
      "7\n",
      "range of age (19,26)\n"
     ]
    }
   ],
   "source": [
    "#Find the range of the ages (max minus min)\n",
    "range = max(ages)-min(ages)\n",
    "print(range)\n",
    "b=\"range of age ({0},{1})\".format(min(ages),max(ages))\n",
    "print(b)"
   ]
  },
  {
   "cell_type": "code",
   "execution_count": 313,
   "id": "8841e66f",
   "metadata": {},
   "outputs": [],
   "source": [
    "#question:2\n",
    "#Create an empty dictionary called dog\n",
    "dog ={}"
   ]
  },
  {
   "cell_type": "code",
   "execution_count": 314,
   "id": "3d38739f",
   "metadata": {},
   "outputs": [
    {
     "name": "stdout",
     "output_type": "stream",
     "text": [
      "{'name': 'Pinky', 'color': 'brown', 'breed': 'dolmision', 'legs': 2, 'age': '10 year'}\n"
     ]
    }
   ],
   "source": [
    "# Add name, color, breed, legs, age to the dog dictionary\n",
    "dog[\"name\"]= 'Pinky'\n",
    "dog[\"color\"] = 'brown'\n",
    "dog[\"breed\"] = 'dolmision'\n",
    "dog[\"legs\"] = 2\n",
    "dog[\"age\"] = '10 year'\n",
    "print(dog)\n"
   ]
  },
  {
   "cell_type": "code",
   "execution_count": 315,
   "id": "abf28c25",
   "metadata": {},
   "outputs": [
    {
     "name": "stdout",
     "output_type": "stream",
     "text": [
      "{'first_name': 'Lavanya', 'last_name': 'Kurra', 'gender': 'female', 'age': '29 years', 'marital status': 'single', 'skills': ['Btech', 'gyn'], 'country': 'India', 'city': 'Hyderabad', 'address': 'Vanasthalipuram'}\n"
     ]
    }
   ],
   "source": [
    "# Create a student dictionary and add first_name, last_name, gender, age, marital status,skills, country, city and address as keys for the dictionary\n",
    "student ={}\n",
    "student[\"first_name\"]= 'Lavanya'\n",
    "student['last_name'] = 'Kurra'\n",
    "student['gender'] = 'female'\n",
    "student['age'] = '29 years'\n",
    "student['marital status'] = 'single'\n",
    "student['skills'] = ['Btech','gyn']\n",
    "student['country'] = 'India'\n",
    "student['city'] = 'Hyderabad'\n",
    "student['address'] = 'Vanasthalipuram'\n",
    "print(student)"
   ]
  },
  {
   "cell_type": "code",
   "execution_count": 316,
   "id": "e1cb2376",
   "metadata": {},
   "outputs": [
    {
     "name": "stdout",
     "output_type": "stream",
     "text": [
      "9\n"
     ]
    }
   ],
   "source": [
    "# Get the length of the student dictionary\n",
    "print(len(student))"
   ]
  },
  {
   "cell_type": "code",
   "execution_count": 317,
   "id": "2c264873",
   "metadata": {},
   "outputs": [
    {
     "name": "stdout",
     "output_type": "stream",
     "text": [
      "<class 'list'>\n"
     ]
    }
   ],
   "source": [
    "# Get the value of skills and check the data type, it should be a list\n",
    "print(type(student.get('skills')))"
   ]
  },
  {
   "cell_type": "code",
   "execution_count": 318,
   "id": "a877f26c",
   "metadata": {},
   "outputs": [
    {
     "name": "stdout",
     "output_type": "stream",
     "text": [
      "{'first_name': 'Lavanya', 'last_name': 'Kurra', 'gender': 'female', 'age': '29 years', 'marital status': 'single', 'skills': ['Btech', 'gyn', 'html'], 'country': 'India', 'city': 'Hyderabad', 'address': 'Vanasthalipuram'}\n"
     ]
    }
   ],
   "source": [
    "# Modify the skills values by adding one or two skills\n",
    "student['skills'].append('html')\n",
    "print(student)"
   ]
  },
  {
   "cell_type": "code",
   "execution_count": 319,
   "id": "3d69263a",
   "metadata": {},
   "outputs": [
    {
     "name": "stdout",
     "output_type": "stream",
     "text": [
      "['first_name', 'last_name', 'gender', 'age', 'marital status', 'skills', 'country', 'city', 'address']\n"
     ]
    }
   ],
   "source": [
    "# Get the dictionary keys as a list\n",
    "print(list(student.keys()))"
   ]
  },
  {
   "cell_type": "code",
   "execution_count": 56,
   "id": "78fa2297",
   "metadata": {},
   "outputs": [
    {
     "name": "stdout",
     "output_type": "stream",
     "text": [
      "['Lavanya', 'Kurra', 'female', 'single', ['Btech', 'gy', 'html'], 'India', 'Hyderabad', 'Vanasthalipuram']\n"
     ]
    }
   ],
   "source": [
    "# Get the dictionary values as a list\n",
    "print(list(student.values()))"
   ]
  },
  {
   "cell_type": "code",
   "execution_count": 320,
   "id": "91a4b132",
   "metadata": {},
   "outputs": [
    {
     "name": "stdout",
     "output_type": "stream",
     "text": [
      "('mahi', 'gani', 'halley', 'elisa')\n"
     ]
    }
   ],
   "source": [
    "#question:3\n",
    "#Create a tuple containing names of your sisters and your brothers (imaginary siblings are fine)\n",
    "brothers= ('mahi', 'gani')\n",
    "sisters= ('halley','elisa')\n",
    "#Join brothers and sisters tuples and assign it to siblings\n",
    "siblings = brothers+sisters\n",
    "print(siblings)\n"
   ]
  },
  {
   "cell_type": "code",
   "execution_count": 208,
   "id": "766ba0e7",
   "metadata": {},
   "outputs": [
    {
     "data": {
      "text/plain": [
       "4"
      ]
     },
     "execution_count": 208,
     "metadata": {},
     "output_type": "execute_result"
    }
   ],
   "source": [
    "# How many siblings do you have?\n",
    "len(siblings)"
   ]
  },
  {
   "cell_type": "code",
   "execution_count": 209,
   "id": "a0075585",
   "metadata": {},
   "outputs": [
    {
     "name": "stdout",
     "output_type": "stream",
     "text": [
      "('mahi', 'gani', 'halley', 'elisa', 'chandu', 'suma')\n"
     ]
    }
   ],
   "source": [
    "family_members= siblings+('chandu','suma') \n",
    "print(family_members)"
   ]
  },
  {
   "cell_type": "code",
   "execution_count": 321,
   "id": "3f48ffb4",
   "metadata": {},
   "outputs": [
    {
     "data": {
      "text/plain": [
       "7"
      ]
     },
     "execution_count": 321,
     "metadata": {},
     "output_type": "execute_result"
    }
   ],
   "source": [
    "#question:4\n",
    "\n",
    "#it_companies = {'Facebook', 'Google', 'Microsoft', 'Apple', 'IBM', 'Oracle', 'Amazon'}\n",
    "#A = {19, 22, 24, 20, 25, 26}\n",
    "#B = {19, 22, 20, 25, 26, 24, 28, 27}\n",
    "#age = [22, 19, 24, 25, 26, 24, 25, 24]\n",
    "# Find the length of the set it_companies\n",
    "it_companies = {'Facebook', 'Google', 'Microsoft', 'Apple', 'IBM', 'Oracle', 'Amazon'}\n",
    "A = {19, 22, 24, 20, 25, 26}\n",
    "B = {19, 22, 20, 25, 26, 24, 28, 27}\n",
    "age = [22, 19, 24, 25, 26, 24, 25, 24]\n",
    "len(it_companies)"
   ]
  },
  {
   "cell_type": "code",
   "execution_count": 322,
   "id": "75f2649d",
   "metadata": {},
   "outputs": [
    {
     "name": "stdout",
     "output_type": "stream",
     "text": [
      "{'Twitter', 'Facebook', 'IBM', 'Amazon', 'Apple', 'Microsoft', 'Oracle', 'Google'}\n"
     ]
    }
   ],
   "source": [
    "# Add 'Twitter' to it_companies\n",
    "it_companies.add('Twitter')\n",
    "print(it_companies)"
   ]
  },
  {
   "cell_type": "code",
   "execution_count": 323,
   "id": "02da67f3",
   "metadata": {},
   "outputs": [
    {
     "name": "stdout",
     "output_type": "stream",
     "text": [
      "{'IBM', 'Apple', 'Microsoft', 'Google', 'snapchat', 'Twitter', 'HCL', 'Oracle', 'instagram', 'Facebook', 'Amazon'}\n"
     ]
    }
   ],
   "source": [
    "# Insert multiple IT companies at once to the set it_companies\n",
    "it_companies.update(['instagram','snapchat','HCL'])\n",
    "print(it_companies)"
   ]
  },
  {
   "cell_type": "code",
   "execution_count": 324,
   "id": "30366fd4",
   "metadata": {},
   "outputs": [
    {
     "name": "stdout",
     "output_type": "stream",
     "text": [
      "{'IBM', 'Apple', 'Microsoft', 'Google', 'Twitter', 'HCL', 'Oracle', 'instagram', 'Facebook', 'Amazon'}\n"
     ]
    }
   ],
   "source": [
    "# Remove one of the companies from the set it_companies\n",
    "it_companies.remove('snapchat')\n",
    "print(it_companies)"
   ]
  },
  {
   "cell_type": "code",
   "execution_count": 227,
   "id": "6ab63c7c",
   "metadata": {},
   "outputs": [
    {
     "name": "stdout",
     "output_type": "stream",
     "text": [
      "{'IBM', 'Apple', 'Microsoft', 'snapchat', 'Twitter', 'HCL', 'Oracle', 'instagram', 'Facebook', 'Amazon'}\n"
     ]
    },
    {
     "data": {
      "text/plain": [
       "'Both remove() and discard() method will remove the specified item. remove() method throws the error if the item doesnot exit in the set whereas discard() method doesnt throw error if teh item doesnot exit in the set'"
      ]
     },
     "execution_count": 227,
     "metadata": {},
     "output_type": "execute_result"
    }
   ],
   "source": [
    "# What is the difference between remove and discard\n",
    "it_companies.discard('Google')\n",
    "print(it_companies)\n",
    "\"Both remove() and discard() method will remove the specified item. remove() method throws the error if the item doesnot exit in the set whereas discard() method doesnt throw error if teh item doesnot exit in the set\"\n"
   ]
  },
  {
   "cell_type": "code",
   "execution_count": 244,
   "id": "847592a9",
   "metadata": {},
   "outputs": [
    {
     "name": "stdout",
     "output_type": "stream",
     "text": [
      "{19, 20, 22, 24, 25, 26, 27, 28}\n"
     ]
    }
   ],
   "source": [
    "# Join A and B\n",
    "C=A.union(B)\n",
    "print(C)\n"
   ]
  },
  {
   "cell_type": "code",
   "execution_count": 245,
   "id": "f732b37a",
   "metadata": {},
   "outputs": [
    {
     "name": "stdout",
     "output_type": "stream",
     "text": [
      "{19, 20, 22, 24, 25, 26, 27, 28}\n"
     ]
    }
   ],
   "source": [
    "# Find A intersection B\n",
    "print(A.intersection(B))\n"
   ]
  },
  {
   "cell_type": "code",
   "execution_count": 246,
   "id": "d6055557",
   "metadata": {},
   "outputs": [
    {
     "name": "stdout",
     "output_type": "stream",
     "text": [
      "True\n"
     ]
    }
   ],
   "source": [
    "# Is A subset of B\n",
    "print(A.issubset(B))\n"
   ]
  },
  {
   "cell_type": "code",
   "execution_count": 247,
   "id": "14260b50",
   "metadata": {},
   "outputs": [
    {
     "name": "stdout",
     "output_type": "stream",
     "text": [
      "False\n"
     ]
    }
   ],
   "source": [
    "# Are A and B disjoint sets\n",
    "print(A.isdisjoint(B))\n"
   ]
  },
  {
   "cell_type": "code",
   "execution_count": 248,
   "id": "393734d4",
   "metadata": {},
   "outputs": [
    {
     "name": "stdout",
     "output_type": "stream",
     "text": [
      "{19, 20, 22, 24, 25, 26, 27, 28}\n"
     ]
    }
   ],
   "source": [
    "# Join A with B and B with A\n",
    "B.update(A)\n",
    "\n",
    "print(B)\n"
   ]
  },
  {
   "cell_type": "code",
   "execution_count": 251,
   "id": "58e4eea7",
   "metadata": {},
   "outputs": [
    {
     "name": "stdout",
     "output_type": "stream",
     "text": [
      "{27, 28}\n"
     ]
    }
   ],
   "source": [
    "# What is the symmetric difference between A and B\n",
    "print(A.symmetric_difference(B))\n"
   ]
  },
  {
   "cell_type": "code",
   "execution_count": 255,
   "id": "757a9e71",
   "metadata": {},
   "outputs": [],
   "source": [
    "# Delete the sets completely\n",
    "A.clear()\n",
    "#doubt"
   ]
  },
  {
   "cell_type": "code",
   "execution_count": 256,
   "id": "7a632370",
   "metadata": {},
   "outputs": [
    {
     "name": "stdout",
     "output_type": "stream",
     "text": [
      "{19, 22, 24, 25, 26}\n",
      "8\n",
      "5\n"
     ]
    }
   ],
   "source": [
    "# Convert the ages to a set and compare the length of the list and the set.\n",
    "age1 = set(age)\n",
    "print(age1)\n",
    "print(len(age))\n",
    "print(len(age1))"
   ]
  },
  {
   "cell_type": "code",
   "execution_count": 265,
   "id": "50575108",
   "metadata": {},
   "outputs": [
    {
     "name": "stdout",
     "output_type": "stream",
     "text": [
      "2826.0\n"
     ]
    }
   ],
   "source": [
    "#question:5\n",
    "\n",
    "#The radius of a circle is 30 meters\n",
    "# Calculate the area of a circle and assign the value to a variable name of _area_of_circle_\n",
    "radius = 30\n",
    "_area_of_circle_ =3.14*radius*radius\n",
    "print(_area_of_circle_)\n"
   ]
  },
  {
   "cell_type": "code",
   "execution_count": 270,
   "id": "9857d735",
   "metadata": {},
   "outputs": [
    {
     "name": "stdout",
     "output_type": "stream",
     "text": [
      "188.4\n"
     ]
    }
   ],
   "source": [
    "# Calculate the circumference of a circle and assign the value to a variable name of _circum_of_circle_\n",
    "_circum_of_circle_=2*3.14*radius\n",
    "print(_circum_of_circle_)"
   ]
  },
  {
   "cell_type": "code",
   "execution_count": 271,
   "id": "62aee488",
   "metadata": {},
   "outputs": [
    {
     "name": "stdout",
     "output_type": "stream",
     "text": [
      "Enter the radius of the circle10\n",
      "314.0\n"
     ]
    }
   ],
   "source": [
    "# Take radius as user input and calculate the area.\n",
    "radius =int(input(\"Enter the radius of the circle\"))\n",
    "print(3.14*radius*radius)"
   ]
  },
  {
   "cell_type": "code",
   "execution_count": 291,
   "id": "5436fb54",
   "metadata": {},
   "outputs": [
    {
     "name": "stdout",
     "output_type": "stream",
     "text": [
      "10\n",
      "{'I', 'a', 'people', 'teacher', 'to', 'teach', 'and', 'love', 'inspire', 'am'}\n"
     ]
    }
   ],
   "source": [
    "#question:6\n",
    "\n",
    "#“I am a teacher and I love to inspire and teach people”\n",
    "# How many unique words have been used in the sentence? Use the split methods and set to get the unique words.\n",
    "x = (\"I am a teacher and I love to inspire and teach people\")\n",
    "y=x.split(' ')\n",
    "z=set(y)\n",
    "a=len(z)\n",
    "print(len(z))\n",
    "print(z)"
   ]
  },
  {
   "cell_type": "code",
   "execution_count": 325,
   "id": "7e07ce72",
   "metadata": {},
   "outputs": [
    {
     "name": "stdout",
     "output_type": "stream",
     "text": [
      "Name\tAge\tCountry\tCity\n",
      "Asabeneh\t250\tFinland\tHelsinki\n"
     ]
    }
   ],
   "source": [
    "#question:7\n",
    "\n",
    "# Use a tab escape sequence to get the following lines.\n",
    "#Name Age Country City\n",
    "#Asabeneh 250 Finland Helsinki\n",
    "str = 'Name\\tAge\\tCountry\\tCity\\nAsabeneh\\t250\\tFinland\\tHelsinki'\n",
    "print(str)\n",
    "#doubt"
   ]
  },
  {
   "cell_type": "code",
   "execution_count": 328,
   "id": "2118b477",
   "metadata": {},
   "outputs": [
    {
     "name": "stdout",
     "output_type": "stream",
     "text": [
      "The area of a circle with radius 10 is 314 meters square\n"
     ]
    }
   ],
   "source": [
    "#question:8\n",
    "\n",
    "# Use the string formatting method to display the following:#radius = 10\n",
    "#radius = 10\n",
    "#area = 3.14 * radius ** 2“T\n",
    "#The area of a circle with radius 10 is 314 meters square.”\n",
    "radius=10\n",
    "area=int(3.14*radius**2)\n",
    "output=\"The area of a circle with radius {0} is {1} meters square\".format(radius,area)\n",
    "print(output)"
   ]
  },
  {
   "cell_type": "code",
   "execution_count": 327,
   "id": "7cd1ef6b",
   "metadata": {},
   "outputs": [
    {
     "name": "stdout",
     "output_type": "stream",
     "text": [
      "[67.5, 69.75, 65.25, 66.60000000000001]\n"
     ]
    }
   ],
   "source": [
    "#question:9\n",
    "\n",
    "#Write a program, which reads weights (lbs.) of N students into a list and convert these weights to kilograms in a separate list using Loop. N: No of students (Read input from user)\n",
    "#Ex: L1: [150, 155, 145, 148]\n",
    "#Output: [68.03, 70.3, 65.77, 67.13]\n",
    "student_list=[150, 155, 145, 148]\n",
    "a=[]\n",
    "for i in student_list:\n",
    "    i=float(i)*0.45\n",
    "    a.append(i)\n",
    "print(a)\n"
   ]
  },
  {
   "cell_type": "code",
   "execution_count": null,
   "id": "c7ab5a45",
   "metadata": {},
   "outputs": [],
   "source": []
  },
  {
   "cell_type": "code",
   "execution_count": null,
   "id": "1cb61fba",
   "metadata": {},
   "outputs": [],
   "source": []
  },
  {
   "cell_type": "code",
   "execution_count": null,
   "id": "f8747182",
   "metadata": {},
   "outputs": [],
   "source": []
  },
  {
   "cell_type": "code",
   "execution_count": null,
   "id": "8fd6fb3a",
   "metadata": {},
   "outputs": [],
   "source": []
  },
  {
   "cell_type": "code",
   "execution_count": null,
   "id": "914e46ae",
   "metadata": {},
   "outputs": [],
   "source": []
  },
  {
   "cell_type": "code",
   "execution_count": null,
   "id": "4d6a5269",
   "metadata": {},
   "outputs": [],
   "source": []
  },
  {
   "cell_type": "code",
   "execution_count": null,
   "id": "c7dbefe2",
   "metadata": {},
   "outputs": [],
   "source": []
  },
  {
   "cell_type": "code",
   "execution_count": null,
   "id": "44228762",
   "metadata": {},
   "outputs": [],
   "source": []
  },
  {
   "cell_type": "code",
   "execution_count": null,
   "id": "05e81257",
   "metadata": {},
   "outputs": [],
   "source": []
  },
  {
   "cell_type": "code",
   "execution_count": null,
   "id": "59571e1a",
   "metadata": {},
   "outputs": [],
   "source": []
  },
  {
   "cell_type": "code",
   "execution_count": null,
   "id": "e06dfc4f",
   "metadata": {},
   "outputs": [],
   "source": []
  },
  {
   "cell_type": "code",
   "execution_count": null,
   "id": "3a89ff8b",
   "metadata": {},
   "outputs": [],
   "source": []
  },
  {
   "cell_type": "code",
   "execution_count": null,
   "id": "c404654d",
   "metadata": {},
   "outputs": [],
   "source": []
  },
  {
   "cell_type": "code",
   "execution_count": null,
   "id": "a836dda3",
   "metadata": {},
   "outputs": [],
   "source": []
  },
  {
   "cell_type": "code",
   "execution_count": null,
   "id": "62ec6822",
   "metadata": {},
   "outputs": [],
   "source": []
  },
  {
   "cell_type": "code",
   "execution_count": null,
   "id": "19adfaac",
   "metadata": {},
   "outputs": [],
   "source": []
  },
  {
   "cell_type": "code",
   "execution_count": null,
   "id": "9066efa2",
   "metadata": {},
   "outputs": [],
   "source": []
  },
  {
   "cell_type": "code",
   "execution_count": null,
   "id": "a2e46622",
   "metadata": {},
   "outputs": [],
   "source": [
    "\n"
   ]
  },
  {
   "cell_type": "code",
   "execution_count": null,
   "id": "6100099a",
   "metadata": {},
   "outputs": [],
   "source": []
  }
 ],
 "metadata": {
  "kernelspec": {
   "display_name": "Python 3 (ipykernel)",
   "language": "python",
   "name": "python3"
  },
  "language_info": {
   "codemirror_mode": {
    "name": "ipython",
    "version": 3
   },
   "file_extension": ".py",
   "mimetype": "text/x-python",
   "name": "python",
   "nbconvert_exporter": "python",
   "pygments_lexer": "ipython3",
   "version": "3.9.7"
  }
 },
 "nbformat": 4,
 "nbformat_minor": 5
}
